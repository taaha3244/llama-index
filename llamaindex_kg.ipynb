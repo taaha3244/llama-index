{
  "cells": [
    {
      "cell_type": "markdown",
      "metadata": {
        "id": "view-in-github",
        "colab_type": "text"
      },
      "source": [
        "<a href=\"https://colab.research.google.com/github/taaha3244/llama-index/blob/main/llamaindex_kg.ipynb\" target=\"_parent\"><img src=\"https://colab.research.google.com/assets/colab-badge.svg\" alt=\"Open In Colab\"/></a>"
      ]
    },
    {
      "cell_type": "code",
      "execution_count": 1,
      "metadata": {
        "colab": {
          "base_uri": "https://localhost:8080/"
        },
        "collapsed": true,
        "id": "4hAgQ3H_8DMn",
        "outputId": "653572b1-dd92-4992-b1b6-ad5a2baea47f"
      },
      "outputs": [
        {
          "output_type": "stream",
          "name": "stdout",
          "text": [
            "Collecting llama-index\n",
            "  Downloading llama_index-0.10.53-py3-none-any.whl (6.8 kB)\n",
            "Collecting llama-index-graph-stores-neo4j\n",
            "  Downloading llama_index_graph_stores_neo4j-0.2.7-py3-none-any.whl (11 kB)\n",
            "Collecting llama-index-agent-openai<0.3.0,>=0.1.4 (from llama-index)\n",
            "  Downloading llama_index_agent_openai-0.2.8-py3-none-any.whl (13 kB)\n",
            "Collecting llama-index-cli<0.2.0,>=0.1.2 (from llama-index)\n",
            "  Downloading llama_index_cli-0.1.12-py3-none-any.whl (26 kB)\n",
            "Collecting llama-index-core==0.10.53.post1 (from llama-index)\n",
            "  Downloading llama_index_core-0.10.53.post1-py3-none-any.whl (15.4 MB)\n",
            "\u001b[2K     \u001b[90m━━━━━━━━━━━━━━━━━━━━━━━━━━━━━━━━━━━━━━━━\u001b[0m \u001b[32m15.4/15.4 MB\u001b[0m \u001b[31m53.5 MB/s\u001b[0m eta \u001b[36m0:00:00\u001b[0m\n",
            "\u001b[?25hCollecting llama-index-embeddings-openai<0.2.0,>=0.1.5 (from llama-index)\n",
            "  Downloading llama_index_embeddings_openai-0.1.10-py3-none-any.whl (6.2 kB)\n",
            "Collecting llama-index-indices-managed-llama-cloud>=0.2.0 (from llama-index)\n",
            "  Downloading llama_index_indices_managed_llama_cloud-0.2.3-py3-none-any.whl (9.2 kB)\n",
            "Collecting llama-index-legacy<0.10.0,>=0.9.48 (from llama-index)\n",
            "  Downloading llama_index_legacy-0.9.48-py3-none-any.whl (2.0 MB)\n",
            "\u001b[2K     \u001b[90m━━━━━━━━━━━━━━━━━━━━━━━━━━━━━━━━━━━━━━━━\u001b[0m \u001b[32m2.0/2.0 MB\u001b[0m \u001b[31m55.1 MB/s\u001b[0m eta \u001b[36m0:00:00\u001b[0m\n",
            "\u001b[?25hCollecting llama-index-llms-openai<0.2.0,>=0.1.13 (from llama-index)\n",
            "  Downloading llama_index_llms_openai-0.1.25-py3-none-any.whl (11 kB)\n",
            "Collecting llama-index-multi-modal-llms-openai<0.2.0,>=0.1.3 (from llama-index)\n",
            "  Downloading llama_index_multi_modal_llms_openai-0.1.7-py3-none-any.whl (5.9 kB)\n",
            "Collecting llama-index-program-openai<0.2.0,>=0.1.3 (from llama-index)\n",
            "  Downloading llama_index_program_openai-0.1.6-py3-none-any.whl (5.2 kB)\n",
            "Collecting llama-index-question-gen-openai<0.2.0,>=0.1.2 (from llama-index)\n",
            "  Downloading llama_index_question_gen_openai-0.1.3-py3-none-any.whl (2.9 kB)\n",
            "Collecting llama-index-readers-file<0.2.0,>=0.1.4 (from llama-index)\n",
            "  Downloading llama_index_readers_file-0.1.29-py3-none-any.whl (38 kB)\n",
            "Collecting llama-index-readers-llama-parse>=0.1.2 (from llama-index)\n",
            "  Downloading llama_index_readers_llama_parse-0.1.6-py3-none-any.whl (2.5 kB)\n",
            "Requirement already satisfied: PyYAML>=6.0.1 in /usr/local/lib/python3.10/dist-packages (from llama-index-core==0.10.53.post1->llama-index) (6.0.1)\n",
            "Requirement already satisfied: SQLAlchemy[asyncio]>=1.4.49 in /usr/local/lib/python3.10/dist-packages (from llama-index-core==0.10.53.post1->llama-index) (2.0.31)\n",
            "Requirement already satisfied: aiohttp<4.0.0,>=3.8.6 in /usr/local/lib/python3.10/dist-packages (from llama-index-core==0.10.53.post1->llama-index) (3.9.5)\n",
            "Collecting dataclasses-json (from llama-index-core==0.10.53.post1->llama-index)\n",
            "  Downloading dataclasses_json-0.6.7-py3-none-any.whl (28 kB)\n",
            "Collecting deprecated>=1.2.9.3 (from llama-index-core==0.10.53.post1->llama-index)\n",
            "  Downloading Deprecated-1.2.14-py2.py3-none-any.whl (9.6 kB)\n",
            "Collecting dirtyjson<2.0.0,>=1.0.8 (from llama-index-core==0.10.53.post1->llama-index)\n",
            "  Downloading dirtyjson-1.0.8-py3-none-any.whl (25 kB)\n",
            "Requirement already satisfied: fsspec>=2023.5.0 in /usr/local/lib/python3.10/dist-packages (from llama-index-core==0.10.53.post1->llama-index) (2023.6.0)\n",
            "Collecting httpx (from llama-index-core==0.10.53.post1->llama-index)\n",
            "  Downloading httpx-0.27.0-py3-none-any.whl (75 kB)\n",
            "\u001b[2K     \u001b[90m━━━━━━━━━━━━━━━━━━━━━━━━━━━━━━━━━━━━━━━━\u001b[0m \u001b[32m75.6/75.6 kB\u001b[0m \u001b[31m6.4 MB/s\u001b[0m eta \u001b[36m0:00:00\u001b[0m\n",
            "\u001b[?25hCollecting llama-cloud<0.0.7,>=0.0.6 (from llama-index-core==0.10.53.post1->llama-index)\n",
            "  Downloading llama_cloud-0.0.6-py3-none-any.whl (130 kB)\n",
            "\u001b[2K     \u001b[90m━━━━━━━━━━━━━━━━━━━━━━━━━━━━━━━━━━━━━━━━\u001b[0m \u001b[32m130.8/130.8 kB\u001b[0m \u001b[31m15.6 MB/s\u001b[0m eta \u001b[36m0:00:00\u001b[0m\n",
            "\u001b[?25hRequirement already satisfied: nest-asyncio<2.0.0,>=1.5.8 in /usr/local/lib/python3.10/dist-packages (from llama-index-core==0.10.53.post1->llama-index) (1.6.0)\n",
            "Requirement already satisfied: networkx>=3.0 in /usr/local/lib/python3.10/dist-packages (from llama-index-core==0.10.53.post1->llama-index) (3.3)\n",
            "Requirement already satisfied: nltk<4.0.0,>=3.8.1 in /usr/local/lib/python3.10/dist-packages (from llama-index-core==0.10.53.post1->llama-index) (3.8.1)\n",
            "Requirement already satisfied: numpy<2.0.0 in /usr/local/lib/python3.10/dist-packages (from llama-index-core==0.10.53.post1->llama-index) (1.25.2)\n",
            "Collecting openai>=1.1.0 (from llama-index-core==0.10.53.post1->llama-index)\n",
            "  Downloading openai-1.35.11-py3-none-any.whl (328 kB)\n",
            "\u001b[2K     \u001b[90m━━━━━━━━━━━━━━━━━━━━━━━━━━━━━━━━━━━━━━━━\u001b[0m \u001b[32m328.4/328.4 kB\u001b[0m \u001b[31m29.2 MB/s\u001b[0m eta \u001b[36m0:00:00\u001b[0m\n",
            "\u001b[?25hRequirement already satisfied: pandas in /usr/local/lib/python3.10/dist-packages (from llama-index-core==0.10.53.post1->llama-index) (2.0.3)\n",
            "Requirement already satisfied: pillow>=9.0.0 in /usr/local/lib/python3.10/dist-packages (from llama-index-core==0.10.53.post1->llama-index) (9.4.0)\n",
            "Requirement already satisfied: requests>=2.31.0 in /usr/local/lib/python3.10/dist-packages (from llama-index-core==0.10.53.post1->llama-index) (2.31.0)\n",
            "Requirement already satisfied: tenacity!=8.4.0,<9.0.0,>=8.2.0 in /usr/local/lib/python3.10/dist-packages (from llama-index-core==0.10.53.post1->llama-index) (8.4.2)\n",
            "Collecting tiktoken>=0.3.3 (from llama-index-core==0.10.53.post1->llama-index)\n",
            "  Downloading tiktoken-0.7.0-cp310-cp310-manylinux_2_17_x86_64.manylinux2014_x86_64.whl (1.1 MB)\n",
            "\u001b[2K     \u001b[90m━━━━━━━━━━━━━━━━━━━━━━━━━━━━━━━━━━━━━━━━\u001b[0m \u001b[32m1.1/1.1 MB\u001b[0m \u001b[31m32.5 MB/s\u001b[0m eta \u001b[36m0:00:00\u001b[0m\n",
            "\u001b[?25hRequirement already satisfied: tqdm<5.0.0,>=4.66.1 in /usr/local/lib/python3.10/dist-packages (from llama-index-core==0.10.53.post1->llama-index) (4.66.4)\n",
            "Requirement already satisfied: typing-extensions>=4.5.0 in /usr/local/lib/python3.10/dist-packages (from llama-index-core==0.10.53.post1->llama-index) (4.12.2)\n",
            "Collecting typing-inspect>=0.8.0 (from llama-index-core==0.10.53.post1->llama-index)\n",
            "  Downloading typing_inspect-0.9.0-py3-none-any.whl (8.8 kB)\n",
            "Requirement already satisfied: wrapt in /usr/local/lib/python3.10/dist-packages (from llama-index-core==0.10.53.post1->llama-index) (1.14.1)\n",
            "Collecting neo4j<6.0.0,>=5.16.0 (from llama-index-graph-stores-neo4j)\n",
            "  Downloading neo4j-5.22.0-py3-none-any.whl (293 kB)\n",
            "\u001b[2K     \u001b[90m━━━━━━━━━━━━━━━━━━━━━━━━━━━━━━━━━━━━━━━━\u001b[0m \u001b[32m293.5/293.5 kB\u001b[0m \u001b[31m33.1 MB/s\u001b[0m eta \u001b[36m0:00:00\u001b[0m\n",
            "\u001b[?25hRequirement already satisfied: beautifulsoup4<5.0.0,>=4.12.3 in /usr/local/lib/python3.10/dist-packages (from llama-index-readers-file<0.2.0,>=0.1.4->llama-index) (4.12.3)\n",
            "Collecting pypdf<5.0.0,>=4.0.1 (from llama-index-readers-file<0.2.0,>=0.1.4->llama-index)\n",
            "  Downloading pypdf-4.2.0-py3-none-any.whl (290 kB)\n",
            "\u001b[2K     \u001b[90m━━━━━━━━━━━━━━━━━━━━━━━━━━━━━━━━━━━━━━━━\u001b[0m \u001b[32m290.4/290.4 kB\u001b[0m \u001b[31m30.3 MB/s\u001b[0m eta \u001b[36m0:00:00\u001b[0m\n",
            "\u001b[?25hCollecting striprtf<0.0.27,>=0.0.26 (from llama-index-readers-file<0.2.0,>=0.1.4->llama-index)\n",
            "  Downloading striprtf-0.0.26-py3-none-any.whl (6.9 kB)\n",
            "Collecting llama-parse>=0.4.0 (from llama-index-readers-llama-parse>=0.1.2->llama-index)\n",
            "  Downloading llama_parse-0.4.6-py3-none-any.whl (9.1 kB)\n",
            "Requirement already satisfied: pytz in /usr/local/lib/python3.10/dist-packages (from neo4j<6.0.0,>=5.16.0->llama-index-graph-stores-neo4j) (2023.4)\n",
            "Requirement already satisfied: aiosignal>=1.1.2 in /usr/local/lib/python3.10/dist-packages (from aiohttp<4.0.0,>=3.8.6->llama-index-core==0.10.53.post1->llama-index) (1.3.1)\n",
            "Requirement already satisfied: attrs>=17.3.0 in /usr/local/lib/python3.10/dist-packages (from aiohttp<4.0.0,>=3.8.6->llama-index-core==0.10.53.post1->llama-index) (23.2.0)\n",
            "Requirement already satisfied: frozenlist>=1.1.1 in /usr/local/lib/python3.10/dist-packages (from aiohttp<4.0.0,>=3.8.6->llama-index-core==0.10.53.post1->llama-index) (1.4.1)\n",
            "Requirement already satisfied: multidict<7.0,>=4.5 in /usr/local/lib/python3.10/dist-packages (from aiohttp<4.0.0,>=3.8.6->llama-index-core==0.10.53.post1->llama-index) (6.0.5)\n",
            "Requirement already satisfied: yarl<2.0,>=1.0 in /usr/local/lib/python3.10/dist-packages (from aiohttp<4.0.0,>=3.8.6->llama-index-core==0.10.53.post1->llama-index) (1.9.4)\n",
            "Requirement already satisfied: async-timeout<5.0,>=4.0 in /usr/local/lib/python3.10/dist-packages (from aiohttp<4.0.0,>=3.8.6->llama-index-core==0.10.53.post1->llama-index) (4.0.3)\n",
            "Requirement already satisfied: soupsieve>1.2 in /usr/local/lib/python3.10/dist-packages (from beautifulsoup4<5.0.0,>=4.12.3->llama-index-readers-file<0.2.0,>=0.1.4->llama-index) (2.5)\n",
            "Requirement already satisfied: pydantic>=1.10 in /usr/local/lib/python3.10/dist-packages (from llama-cloud<0.0.7,>=0.0.6->llama-index-core==0.10.53.post1->llama-index) (2.8.0)\n",
            "Requirement already satisfied: anyio in /usr/local/lib/python3.10/dist-packages (from httpx->llama-index-core==0.10.53.post1->llama-index) (3.7.1)\n",
            "Requirement already satisfied: certifi in /usr/local/lib/python3.10/dist-packages (from httpx->llama-index-core==0.10.53.post1->llama-index) (2024.6.2)\n",
            "Collecting httpcore==1.* (from httpx->llama-index-core==0.10.53.post1->llama-index)\n",
            "  Downloading httpcore-1.0.5-py3-none-any.whl (77 kB)\n",
            "\u001b[2K     \u001b[90m━━━━━━━━━━━━━━━━━━━━━━━━━━━━━━━━━━━━━━━━\u001b[0m \u001b[32m77.9/77.9 kB\u001b[0m \u001b[31m9.5 MB/s\u001b[0m eta \u001b[36m0:00:00\u001b[0m\n",
            "\u001b[?25hRequirement already satisfied: idna in /usr/local/lib/python3.10/dist-packages (from httpx->llama-index-core==0.10.53.post1->llama-index) (3.7)\n",
            "Requirement already satisfied: sniffio in /usr/local/lib/python3.10/dist-packages (from httpx->llama-index-core==0.10.53.post1->llama-index) (1.3.1)\n",
            "Collecting h11<0.15,>=0.13 (from httpcore==1.*->httpx->llama-index-core==0.10.53.post1->llama-index)\n",
            "  Downloading h11-0.14.0-py3-none-any.whl (58 kB)\n",
            "\u001b[2K     \u001b[90m━━━━━━━━━━━━━━━━━━━━━━━━━━━━━━━━━━━━━━━━\u001b[0m \u001b[32m58.3/58.3 kB\u001b[0m \u001b[31m6.1 MB/s\u001b[0m eta \u001b[36m0:00:00\u001b[0m\n",
            "\u001b[?25hRequirement already satisfied: click in /usr/local/lib/python3.10/dist-packages (from nltk<4.0.0,>=3.8.1->llama-index-core==0.10.53.post1->llama-index) (8.1.7)\n",
            "Requirement already satisfied: joblib in /usr/local/lib/python3.10/dist-packages (from nltk<4.0.0,>=3.8.1->llama-index-core==0.10.53.post1->llama-index) (1.4.2)\n",
            "Requirement already satisfied: regex>=2021.8.3 in /usr/local/lib/python3.10/dist-packages (from nltk<4.0.0,>=3.8.1->llama-index-core==0.10.53.post1->llama-index) (2024.5.15)\n",
            "Requirement already satisfied: distro<2,>=1.7.0 in /usr/lib/python3/dist-packages (from openai>=1.1.0->llama-index-core==0.10.53.post1->llama-index) (1.7.0)\n",
            "Requirement already satisfied: charset-normalizer<4,>=2 in /usr/local/lib/python3.10/dist-packages (from requests>=2.31.0->llama-index-core==0.10.53.post1->llama-index) (3.3.2)\n",
            "Requirement already satisfied: urllib3<3,>=1.21.1 in /usr/local/lib/python3.10/dist-packages (from requests>=2.31.0->llama-index-core==0.10.53.post1->llama-index) (2.0.7)\n",
            "Requirement already satisfied: greenlet!=0.4.17 in /usr/local/lib/python3.10/dist-packages (from SQLAlchemy[asyncio]>=1.4.49->llama-index-core==0.10.53.post1->llama-index) (3.0.3)\n",
            "Collecting mypy-extensions>=0.3.0 (from typing-inspect>=0.8.0->llama-index-core==0.10.53.post1->llama-index)\n",
            "  Downloading mypy_extensions-1.0.0-py3-none-any.whl (4.7 kB)\n",
            "Collecting marshmallow<4.0.0,>=3.18.0 (from dataclasses-json->llama-index-core==0.10.53.post1->llama-index)\n",
            "  Downloading marshmallow-3.21.3-py3-none-any.whl (49 kB)\n",
            "\u001b[2K     \u001b[90m━━━━━━━━━━━━━━━━━━━━━━━━━━━━━━━━━━━━━━━━\u001b[0m \u001b[32m49.2/49.2 kB\u001b[0m \u001b[31m5.6 MB/s\u001b[0m eta \u001b[36m0:00:00\u001b[0m\n",
            "\u001b[?25hRequirement already satisfied: python-dateutil>=2.8.2 in /usr/local/lib/python3.10/dist-packages (from pandas->llama-index-core==0.10.53.post1->llama-index) (2.8.2)\n",
            "Requirement already satisfied: tzdata>=2022.1 in /usr/local/lib/python3.10/dist-packages (from pandas->llama-index-core==0.10.53.post1->llama-index) (2024.1)\n",
            "Requirement already satisfied: exceptiongroup in /usr/local/lib/python3.10/dist-packages (from anyio->httpx->llama-index-core==0.10.53.post1->llama-index) (1.2.1)\n",
            "Requirement already satisfied: packaging>=17.0 in /usr/local/lib/python3.10/dist-packages (from marshmallow<4.0.0,>=3.18.0->dataclasses-json->llama-index-core==0.10.53.post1->llama-index) (24.1)\n",
            "Requirement already satisfied: annotated-types>=0.4.0 in /usr/local/lib/python3.10/dist-packages (from pydantic>=1.10->llama-cloud<0.0.7,>=0.0.6->llama-index-core==0.10.53.post1->llama-index) (0.7.0)\n",
            "Requirement already satisfied: pydantic-core==2.20.0 in /usr/local/lib/python3.10/dist-packages (from pydantic>=1.10->llama-cloud<0.0.7,>=0.0.6->llama-index-core==0.10.53.post1->llama-index) (2.20.0)\n",
            "Requirement already satisfied: six>=1.5 in /usr/local/lib/python3.10/dist-packages (from python-dateutil>=2.8.2->pandas->llama-index-core==0.10.53.post1->llama-index) (1.16.0)\n",
            "Installing collected packages: striprtf, dirtyjson, pypdf, neo4j, mypy-extensions, marshmallow, h11, deprecated, typing-inspect, tiktoken, httpcore, httpx, dataclasses-json, openai, llama-cloud, llama-index-legacy, llama-index-core, llama-parse, llama-index-readers-file, llama-index-llms-openai, llama-index-indices-managed-llama-cloud, llama-index-graph-stores-neo4j, llama-index-embeddings-openai, llama-index-readers-llama-parse, llama-index-multi-modal-llms-openai, llama-index-cli, llama-index-agent-openai, llama-index-program-openai, llama-index-question-gen-openai, llama-index\n",
            "Successfully installed dataclasses-json-0.6.7 deprecated-1.2.14 dirtyjson-1.0.8 h11-0.14.0 httpcore-1.0.5 httpx-0.27.0 llama-cloud-0.0.6 llama-index-0.10.53 llama-index-agent-openai-0.2.8 llama-index-cli-0.1.12 llama-index-core-0.10.53.post1 llama-index-embeddings-openai-0.1.10 llama-index-graph-stores-neo4j-0.2.7 llama-index-indices-managed-llama-cloud-0.2.3 llama-index-legacy-0.9.48 llama-index-llms-openai-0.1.25 llama-index-multi-modal-llms-openai-0.1.7 llama-index-program-openai-0.1.6 llama-index-question-gen-openai-0.1.3 llama-index-readers-file-0.1.29 llama-index-readers-llama-parse-0.1.6 llama-parse-0.4.6 marshmallow-3.21.3 mypy-extensions-1.0.0 neo4j-5.22.0 openai-1.35.11 pypdf-4.2.0 striprtf-0.0.26 tiktoken-0.7.0 typing-inspect-0.9.0\n"
          ]
        }
      ],
      "source": [
        "%pip install llama-index llama-index-graph-stores-neo4j"
      ]
    },
    {
      "cell_type": "code",
      "source": [
        "from llama_index.core import PropertyGraphIndex\n",
        "from llama_index.embeddings.openai import OpenAIEmbedding\n",
        "from llama_index.llms.openai import OpenAI\n",
        "from llama_index.core.indices.property_graph import SchemaLLMPathExtractor\n",
        "from llama_index.core.indices.property_graph import SimpleLLMPathExtractor\n",
        "from llama_index.graph_stores.neo4j import Neo4jPropertyGraphStore\n",
        "from llama_index.core import PropertyGraphIndex\n",
        "from llama_index.embeddings.openai import OpenAIEmbedding\n",
        "from llama_index.llms.openai import OpenAI\n",
        "from llama_index.core.indices.property_graph import SimpleLLMPathExtractor\n",
        "from google.colab import userdata\n",
        "import os\n",
        "import nest_asyncio\n",
        "from llama_index.core import SimpleDirectoryReader\n",
        "from llama_index.core.indices.property_graph import (\n",
        "    LLMSynonymRetriever,\n",
        "    VectorContextRetriever,\n",
        ")\n"
      ],
      "metadata": {
        "id": "E7McnJIG6mst"
      },
      "execution_count": 3,
      "outputs": []
    },
    {
      "cell_type": "code",
      "execution_count": 4,
      "metadata": {
        "colab": {
          "base_uri": "https://localhost:8080/"
        },
        "id": "eCi1DjfcCr6d",
        "outputId": "2cbd44c6-bd61-4779-8b58-36f8cc0c7c01"
      },
      "outputs": [
        {
          "output_type": "stream",
          "name": "stdout",
          "text": [
            "Archive:  kg.zip\n",
            "  inflating: kg/2023 Qualified Allocation Plan.pdf  \n",
            "  inflating: kg/2023 Affordable Housing.pdf  \n"
          ]
        }
      ],
      "source": [
        "!unzip 'kg'"
      ]
    },
    {
      "cell_type": "code",
      "execution_count": 8,
      "metadata": {
        "id": "K_C2D9dj80k5"
      },
      "outputs": [],
      "source": [
        "#env variables\n",
        "os.environ[\"OPENAI_API_KEY\"] =userdata.get('openai_api_key')\n",
        "openai_api_key = userdata.get('openai_api_key')"
      ]
    },
    {
      "cell_type": "code",
      "execution_count": 9,
      "metadata": {
        "id": "nuyMjDbR86II"
      },
      "outputs": [],
      "source": [
        "nest_asyncio.apply()"
      ]
    },
    {
      "cell_type": "code",
      "execution_count": 10,
      "metadata": {
        "id": "OnJjBmzH8_3n",
        "collapsed": true
      },
      "outputs": [],
      "source": [
        "reader = SimpleDirectoryReader(input_dir=\"/content/kg\")\n",
        "documents = reader.load_data()"
      ]
    },
    {
      "cell_type": "code",
      "execution_count": 11,
      "metadata": {
        "colab": {
          "base_uri": "https://localhost:8080/"
        },
        "collapsed": true,
        "id": "GsEXTYD3Dvbb",
        "outputId": "0fe495ba-5fe3-4f91-f9c9-a1c89e02dee9"
      },
      "outputs": [
        {
          "output_type": "stream",
          "name": "stdout",
          "text": [
            "151\n"
          ]
        }
      ],
      "source": [
        "print(len(documents))"
      ]
    },
    {
      "cell_type": "code",
      "source": [
        "documents[89].text"
      ],
      "metadata": {
        "colab": {
          "base_uri": "https://localhost:8080/",
          "height": 105
        },
        "id": "cU0FAe_Z0bRw",
        "outputId": "d6903621-0d63-4625-b8cf-89d2555487a3"
      },
      "execution_count": 17,
      "outputs": [
        {
          "output_type": "execute_result",
          "data": {
            "text/plain": [
              "\"2023 DHCD Consolidated Request for Proposals  90 Criteria  Point Combination Explanation  Point \\nValue  Point \\nType  Calculate  Total \\nPotential \\nPoints  \\nBetween 45 -49.9 % participation.  1 \\n50% DHCD participation or greater (Leverage ratio \\nof 1:1 or below)  0 \\nb. Subsidy Leverage up to 5  \\nLeveraged subsidies or subordinate funding equal to \\n25% of the project's total sources or greater  5 \\nLeveraged subsidies or subordinate funding \\nbetween 20 -24.9 % project's total sources.  4 \\nLeveraged subsidies or subordinate funding \\nbetween 15 -19.9% project's total sources  3 \\nLeveraged subsidies or subordinate funding \\nbetween 10 -14.9 p % project's total sources.  2 \\nLeveraged subsidies or subordinate funding \\nbetween 5 - 9.9% project's total sources.  1 \\nLeveraged subsidies or subordinate funding equal to \\nless than 5 % of the project's total sources.  0 \\nMaximizing Impact of DHCD Resources Scoring Subtotal  50 \\nMax Points: 25  \\nInnovative and Community Oriented Features or Programming  \\nResilient Buildings and \\nInnovative Design  up to 22 \\nEnterprise Green Communities Plus (EGC+) \\nincluding Criterion 5.4: Achieving Zero Energy  15 \\nEnterprise Green Communities Plus (EGC+) \\n(rehabilitation Projects of any size and new \\nconstruction buildings less than 50,000 sf)  10 \\nTRUE Zero Waste Certification  7 each  \\nBuilding Electrification with no on -site combustion  5 each  \\nWhole Building Life -Cycle Assessment (LCA) \\nSupported Low -Embodied Carbon Design (see \\nguidance from LEED v4.1 Building Life -Cycle Impact \\nReduction credit)  4 each  \\nMass -Timber Construction; and/or Modular \\nConstruction and/or conversion of office to \\nresidential building  2 each  \\nEnterprise Green Communities Criterion 6.5 Environmentally Responsible Material Selection for \\nConcrete, Steel, and Insulation  1 each  \\nProject completes the DOEE Resilience & Solar \\nAssessment Tool  1 each  \\nResident Services up to  9 \\nProjects where over 80 % of the core resident \\nservices are expected to be funded and sustained \\nwith sources of funding outside the project  3 \""
            ],
            "application/vnd.google.colaboratory.intrinsic+json": {
              "type": "string"
            }
          },
          "metadata": {},
          "execution_count": 17
        }
      ]
    },
    {
      "cell_type": "code",
      "source": [
        "document_content=[]\n",
        "for document in documents:\n",
        "  document_content.append(document.text)"
      ],
      "metadata": {
        "id": "wOiH0dqF0B66"
      },
      "execution_count": 18,
      "outputs": []
    },
    {
      "cell_type": "code",
      "source": [
        "document_mapping={}\n",
        "\n",
        "for doc in document_content:\n",
        "  document_mapping[doc]=len(doc)"
      ],
      "metadata": {
        "id": "OaqIJkW00oE0"
      },
      "execution_count": 20,
      "outputs": []
    },
    {
      "cell_type": "code",
      "source": [
        "document_mapping.values()"
      ],
      "metadata": {
        "colab": {
          "base_uri": "https://localhost:8080/"
        },
        "id": "8noAE1LR1H6F",
        "outputId": "180a640a-0fc6-4c94-9da3-19386d2625ce"
      },
      "execution_count": 32,
      "outputs": [
        {
          "output_type": "execute_result",
          "data": {
            "text/plain": [
              "dict_values([814, 4956, 1509, 3700, 3029, 2575, 2261, 3077, 2474, 2429, 3059, 2073, 2584, 2485, 2935, 2883, 2221, 2593, 1981, 3771, 2675, 2889, 2716, 2881, 2510, 3001, 3075, 2527, 2546, 2788, 3078, 2762, 2877, 3194, 3137, 1504, 705, 1727, 2350, 3425, 2651, 3295, 3172, 2464, 2877, 2839, 2691, 2285, 3307, 2710, 698, 1861, 1904, 2286, 2574, 2822, 2766, 3123, 2891, 2466, 2762, 3123, 3076, 2379, 2091, 3010, 2484, 2705, 2669, 2825, 2248, 2025, 1663, 2739, 1712, 2418, 2784, 3215, 3217, 3204, 3121, 1856, 901, 1937, 2057, 2189, 1711, 1932, 2160, 2061, 2062, 1663, 190, 3183, 1820, 3275, 2341, 3166, 1022, 2961, 3097, 3062, 2957, 2768, 947, 2852, 3488, 2337, 1402, 2598, 1808, 2917, 2486, 3441, 2748, 3088, 2609, 2882, 3496, 3050, 3517, 3306, 1644, 2032, 3102, 2798, 3288, 2992, 3453, 3166, 3364, 2359, 668, 2500, 280, 3149, 3438, 3321, 3104, 2897, 3259, 2152, 3565, 3577, 3866, 3452, 3748, 3158, 3532, 2495, 0])"
            ]
          },
          "metadata": {},
          "execution_count": 32
        }
      ]
    },
    {
      "cell_type": "code",
      "source": [
        "import matplotlib.pyplot as plt\n",
        "import numpy as np\n",
        "\n",
        "# The values from your dict_values\n",
        "values = [814, 4956, 1509, 3700, 3029, 2575, 2261, 3077, 2474, 2429, 3059, 2073, 2584, 2485, 2935, 2883, 2221, 2593, 1981, 3771, 2675, 2889, 2716, 2881, 2510, 3001, 3075, 2527, 2546, 2788, 3078, 2762, 2877, 3194, 3137, 1504, 705, 1727, 2350, 3425, 2651, 3295, 3172, 2464, 2877, 2839, 2691, 2285, 3307, 2710, 698, 1861, 1904, 2286, 2574, 2822, 2766, 3123, 2891, 2466, 2762, 3123, 3076, 2379, 2091, 3010, 2484, 2705, 2669, 2825, 2248, 2025, 1663, 2739, 1712, 2418, 2784, 3215, 3217, 3204, 3121, 1856, 901, 1937, 2057, 2189, 1711, 1932, 2160, 2061, 2062, 1663, 190, 3183, 1820, 3275, 2341, 3166, 1022, 2961, 3097, 3062, 2957, 2768, 947, 2852, 3488, 2337, 1402, 2598, 1808, 2917, 2486, 3441, 2748, 3088, 2609, 2882, 3496, 3050, 3517, 3306, 1644, 2032, 3102, 2798, 3288, 2992, 3453, 3166, 3364, 2359, 668, 2500, 280, 3149, 3438, 3321, 3104, 2897, 3259, 2152, 3565, 3577, 3866, 3452, 3748, 3158, 3532, 2495, 0]\n",
        "\n",
        "# Create the histogram\n",
        "plt.figure(figsize=(12, 6))\n",
        "plt.hist(values, bins=30, edgecolor='black')\n",
        "plt.title('Distribution of Values')\n",
        "plt.xlabel('Value')\n",
        "plt.ylabel('Frequency')\n",
        "\n",
        "# Add mean and median lines\n",
        "mean_value = np.mean(values)\n",
        "median_value = np.median(values)\n",
        "plt.axvline(mean_value, color='red', linestyle='dashed', linewidth=2, label=f'Mean ({mean_value:.2f})')\n",
        "plt.axvline(median_value, color='green', linestyle='dashed', linewidth=2, label=f'Median ({median_value:.2f})')\n",
        "\n",
        "plt.legend()\n",
        "plt.grid(True, alpha=0.3)\n",
        "\n",
        "# Show the plot\n",
        "plt.show()\n",
        "\n",
        "# Print some basic statistics\n",
        "print(f\"Number of values: {len(values)}\")\n",
        "print(f\"Minimum value: {min(values)}\")\n",
        "print(f\"Maximum value: {max(values)}\")\n",
        "print(f\"Mean: {mean_value:.2f}\")\n",
        "print(f\"Median: {median_value:.2f}\")\n",
        "print(f\"Standard deviation: {np.std(values):.2f}\")"
      ],
      "metadata": {
        "colab": {
          "base_uri": "https://localhost:8080/",
          "height": 668
        },
        "id": "lZXx-13U2TOu",
        "outputId": "bba39050-3f0d-446b-da16-158e61236ede"
      },
      "execution_count": 31,
      "outputs": [
        {
          "output_type": "display_data",
          "data": {
            "text/plain": [
              "<Figure size 1200x600 with 1 Axes>"
            ],
            "image/png": "[encoded data removed]"
          },
          "metadata": {}
        },
        {
          "output_type": "stream",
          "name": "stdout",
          "text": [
            "Number of values: 151\n",
            "Minimum value: 0\n",
            "Maximum value: 4956\n",
            "Mean: 2600.20\n",
            "Median: 2762.00\n",
            "Standard deviation: 771.63\n"
          ]
        }
      ]
    },
    {
      "cell_type": "code",
      "source": [
        "embed_model=OpenAIEmbedding(model_name=\"text-embedding-3-small\",api_key=openai_api_key)\n",
        "llm=OpenAI(model=\"gpt-3.5-turbo\", temperature=0.0,api_key=openai_api_key)"
      ],
      "metadata": {
        "id": "8F83Dj6UswKb"
      },
      "execution_count": 33,
      "outputs": []
    },
    {
      "cell_type": "code",
      "execution_count": 34,
      "metadata": {
        "id": "e5WwfjtHEA0a",
        "colab": {
          "base_uri": "https://localhost:8080/"
        },
        "outputId": "3e9bfce7-31ce-49f5-bc3e-531163493e3d",
        "collapsed": true
      },
      "outputs": [
        {
          "output_type": "stream",
          "name": "stderr",
          "text": [
            "WARNING:neo4j.notifications:Received notification from DBMS server: {severity: WARNING} {code: Neo.ClientNotification.Statement.FeatureDeprecationWarning} {category: DEPRECATION} {title: This feature is deprecated and will be removed in future versions.} {description: The procedure has a deprecated field. ('config' used by 'apoc.meta.graphSample' is deprecated.)} {position: line: 1, column: 1, offset: 0} for query: \"CALL apoc.meta.graphSample() YIELD nodes, relationships RETURN nodes, [rel in relationships | {name:apoc.any.property(rel, 'type'), count: apoc.any.property(rel, 'count')}] AS relationships\"\n"
          ]
        }
      ],
      "source": [
        "graph_store = Neo4jPropertyGraphStore(\n",
        "    username=\"neo4j\",\n",
        "    password=userdata.get('neo4j_password'),\n",
        "    url=userdata.get('neo4j_url')\n",
        ")"
      ]
    },
    {
      "cell_type": "code",
      "execution_count": 35,
      "metadata": {
        "colab": {
          "base_uri": "https://localhost:8080/",
          "height": 208,
          "referenced_widgets": [
            "0a29eea5f11c4f85aea43b57ba1f10cc",
            "2f1d37ffbcc0497c87dac7bdd4ded59e",
            "b7d3745bf23f4bf7b067982f88d2a466",
            "5567dd3b2ce7434a89caf3623089de00",
            "35f30c2cad7d40fbb43b399af4621389",
            "1054c81012f44ff5a27216709059fadb",
            "04b74928c5af44cba22aac77f7db1821",
            "0b26df9493684268b0cdc6bfe0490d3f",
            "9d8ce24ec4184d3196707beb608beef6",
            "b82d6effa00e4d84b8affddff7929cf0",
            "a7b8c0c1c43b49de9df4b3bbbc6a0b67"
          ]
        },
        "collapsed": true,
        "id": "YCN_zCn7H_tG",
        "outputId": "9bf382ec-7c48-4cf8-b636-d9dd97b662db"
      },
      "outputs": [
        {
          "output_type": "display_data",
          "data": {
            "text/plain": [
              "Parsing nodes:   0%|          | 0/151 [00:00<?, ?it/s]"
            ],
            "application/vnd.jupyter.widget-view+json": {
              "version_major": 2,
              "version_minor": 0,
              "model_id": "0a29eea5f11c4f85aea43b57ba1f10cc"
            }
          },
          "metadata": {}
        },
        {
          "output_type": "stream",
          "name": "stderr",
          "text": [
            "Extracting paths from text: 100%|██████████| 153/153 [01:14<00:00,  2.06it/s]\n",
            "WARNING:neo4j.notifications:Received notification from DBMS server: {severity: WARNING} {code: Neo.ClientNotification.Statement.UnknownPropertyKeyWarning} {category: UNRECOGNIZED} {title: The provided property key is not in the database} {description: One of the property names in your query is not available in the database, make sure you didn't misspell it or that the label is available when you run this statement in your application (the missing property name is: id)} {position: line: 1, column: 19, offset: 18} for query: \"MATCH (e) WHERE e.id in $ids \\n        WITH e\\n        RETURN e.id AS name,\\n               [l in labels(e) WHERE l <> '__Entity__' | l][0] AS type,\\n               e{.* , embedding: Null, id: Null} AS properties\\n        \"\n",
            "WARNING:neo4j.notifications:Received notification from DBMS server: {severity: WARNING} {code: Neo.ClientNotification.Statement.UnknownPropertyKeyWarning} {category: UNRECOGNIZED} {title: The provided property key is not in the database} {description: One of the property names in your query is not available in the database, make sure you didn't misspell it or that the label is available when you run this statement in your application (the missing property name is: id)} {position: line: 3, column: 18, offset: 62} for query: \"MATCH (e) WHERE e.id in $ids \\n        WITH e\\n        RETURN e.id AS name,\\n               [l in labels(e) WHERE l <> '__Entity__' | l][0] AS type,\\n               e{.* , embedding: Null, id: Null} AS properties\\n        \"\n",
            "WARNING:neo4j.notifications:Received notification from DBMS server: {severity: WARNING} {code: Neo.ClientNotification.Statement.UnknownPropertyKeyWarning} {category: UNRECOGNIZED} {title: The provided property key is not in the database} {description: One of the property names in your query is not available in the database, make sure you didn't misspell it or that the label is available when you run this statement in your application (the missing property name is: id)} {position: line: 1, column: 19, offset: 18} for query: \"MATCH (e) WHERE e.id in $ids \\n        WITH e\\n        RETURN e.id AS name,\\n               [l in labels(e) WHERE l <> '__Entity__' | l][0] AS type,\\n               e{.* , embedding: Null, id: Null} AS properties\\n        \"\n",
            "WARNING:neo4j.notifications:Received notification from DBMS server: {severity: WARNING} {code: Neo.ClientNotification.Statement.UnknownPropertyKeyWarning} {category: UNRECOGNIZED} {title: The provided property key is not in the database} {description: One of the property names in your query is not available in the database, make sure you didn't misspell it or that the label is available when you run this statement in your application (the missing property name is: id)} {position: line: 3, column: 18, offset: 62} for query: \"MATCH (e) WHERE e.id in $ids \\n        WITH e\\n        RETURN e.id AS name,\\n               [l in labels(e) WHERE l <> '__Entity__' | l][0] AS type,\\n               e{.* , embedding: Null, id: Null} AS properties\\n        \"\n",
            "Generating embeddings: 100%|██████████| 2/2 [00:01<00:00,  1.46it/s]\n",
            "Generating embeddings: 100%|██████████| 28/28 [00:02<00:00, 12.33it/s]\n",
            "WARNING:neo4j.notifications:Received notification from DBMS server: {severity: WARNING} {code: Neo.ClientNotification.Statement.FeatureDeprecationWarning} {category: DEPRECATION} {title: This feature is deprecated and will be removed in future versions.} {description: The procedure has a deprecated field. ('config' used by 'apoc.meta.graphSample' is deprecated.)} {position: line: 1, column: 1, offset: 0} for query: \"CALL apoc.meta.graphSample() YIELD nodes, relationships RETURN nodes, [rel in relationships | {name:apoc.any.property(rel, 'type'), count: apoc.any.property(rel, 'count')}] AS relationships\"\n"
          ]
        }
      ],
      "source": [
        "index = PropertyGraphIndex.from_documents(\n",
        "    documents,\n",
        "    embed_model=embed_model,\n",
        "    kg_extractors=[\n",
        "        SimpleLLMPathExtractor(\n",
        "            llm=llm\n",
        "        )\n",
        "    ],\n",
        "    property_graph_store=graph_store,\n",
        "    show_progress=True,\n",
        ")"
      ]
    },
    {
      "cell_type": "code",
      "source": [
        "# load from existing graph/vector store\n",
        "index = PropertyGraphIndex.from_existing(\n",
        "    property_graph_store=graph_store,\n",
        "    embed_kg_nodes=True,\n",
        "    llm=OpenAI(model=\"gpt-3.5-turbo\", temperature=0.0,api_key=openai_api_key),\n",
        ")"
      ],
      "metadata": {
        "id": "Hqnq-e9r6fO3"
      },
      "execution_count": 36,
      "outputs": []
    },
    {
      "cell_type": "code",
      "source": [
        "llm_synonym = LLMSynonymRetriever(\n",
        "    index.property_graph_store,\n",
        "    llm=OpenAI(model=\"gpt-3.5-turbo\", temperature=0.0,api_key=openai_api_key),\n",
        "    include_text=True,\n",
        ")\n",
        "vector_context = VectorContextRetriever(\n",
        "    index.property_graph_store,\n",
        "    embed_model=embed_model,\n",
        "    include_text=True,\n",
        ")"
      ],
      "metadata": {
        "id": "DD-6s2TxS9k-"
      },
      "execution_count": 37,
      "outputs": []
    },
    {
      "cell_type": "code",
      "execution_count": 40,
      "metadata": {
        "colab": {
          "base_uri": "https://localhost:8080/"
        },
        "id": "A5TfAnhaLHsc",
        "outputId": "80eb3647-eb1f-4077-8a6a-75d0581cc9a4",
        "collapsed": true
      },
      "outputs": [
        {
          "output_type": "stream",
          "name": "stdout",
          "text": [
            "Here are some facts extracted from the provided text:\n",
            "\n",
            "Doee -> Streamlines -> Compliance requirements\n",
            "\n",
            "2023 DHCD Consolidated Request for Proposals  15 •DC Green Bank : Provides reduced -interest construction and permanent\n",
            "loans for clean energy, energy and resource efficiency, and resilience\n",
            "improvements for either new construction or preservation projects.\n",
            "•HUD’s Green and Resilient Retrofit Program (GRRP) : Up to $4.8 billion is\n",
            "available from HUD to fund energy efficiency and resilience measures inaffordable housing projects assisted under the Section 8 Project- Based\n",
            "Rental Assistance (PBRA) program, including properties that converted\n",
            "under the RAD Program prior to September 30, 2021; the Section 202Housing for the Elderly program; the Section 811 Housing for Persons withDisabilities program; or the Section 236 program.\n",
            "The \n",
            "first Notice of Funding Opportunity (NOFO) for the Elements path or\n",
            "cohort for projects that are materially advanced in a recapitalizationtransaction is now closed – though DHCD expects projects in the Leading\n",
            "Edge or Comprehensive cohorts to be most applicable to this RFP. Due to\n",
            "the timing of the release of this RFP and the GRRP award schedule,\n",
            "DHCD will allow projects to submit scenarios with GRRP without having\n",
            "received the award from HUD.  Any award of HPTF would be subject to\n",
            "the 49% limitation and any resource available through this RFP would be\n",
            "contingent upon the receipt of the GRRP award.\n",
            "•Affordable Housing Retrofit Accelerator : DOEE is delivering supplementary\n",
            "technical assistance through its new  Affordable Housing  Retrofit Accelerator\n",
            "through the DC Sustainable Energy Utility (DCSEU) to help buildings subject\n",
            "to DC Building Energy Performance Standards ( BEPS ) navigate and meet the\n",
            "program’s compliance requirements. The Accelerator streamlines compliancerequirements and brings financial and technical support to building owners\n",
            "through the BEPS Online Portal. Buildings subject to BEPS can access Retrofit\n",
            "Accelerator support by registering on the BEPS Portal. More details areavailable here . Any additional questions regarding BEPS compliance and\n",
            "support needs can be asked through the BEPS Online Portal.\n",
            "Fo\n",
            "r additional detail on minimum requirements and guidelines for N on-Multifamily \n",
            "Mortgage Revenue B ond rental projects, please refer to the Threshold Eligibility \n",
            "Requirements  in Section VI and the Underwriting Guidelines in Section VIII . \n",
            "Gu\n",
            "idance for Us ing Potential Structures and Tools – Homeownership  Projects  \n",
            "F\n",
            "or non -LEC single -family and multifamily p rojects, applicants are required to submit a \n",
            "primary homeownership scenario that assumes the use of a DHCD development gap \n",
            "financing loan to support the acquisition, construction, and/or rehabilitation of a project and \n",
            "does not rely on DHCD’s Home Purchase Assistance Program (HPAP) buyer subsidies to \n",
            "achieve minimum affordability. The loan made from DHCD to the borrower/developer would \n",
            "be used to  finance the development of the homeownership project  through the sell -out\n",
            "Here are some facts extracted from the provided text:\n",
            "\n",
            "Dhcd -> Monitoring -> Compliance\n",
            "\n",
            "DHCD 2023  Qualified Allocation Plan, Page 58  of 59  Workforce Development  \n",
            "Several comments requested clarification on the Workforce Development  sub-category of the \n",
            "Evaluation Criteria. DHCD will award points in this category ba sed on detailed plans \n",
            "submitted with the application. Any project that fails to meet its application commitments will \n",
            "result in negative points being received for future applications from the development team through its \n",
            "Past Performance  evaluation. Eviden ce of designation must be submitted as part of \n",
            "the project application.  \n",
            "Clarifications/Other  \n",
            "DHCD received a comment requesting clarity on the requirement that the acquisition cost budgeted for projects on District- owned land reflect the adjusted price of the land. For \n",
            "projects on District -owned land, the acquisition cost in the budget  is expected to be zero, \n",
            "minimal, or offset by a Seller’s Note or similar instrument, depending on the structure of the \n",
            "project.  \n",
            "DHCD received a comment requesting clarity on the QAP requirement that “uses that are \n",
            "associated with dedicated third -party funding sources  must include those sources in the Form \n",
            "202.”  The \n",
            "Error Free Submission  criteria is meant to impress upon applicants the need for \n",
            "consistency between the 202, the narrative, and other application materials. DHCD is a gap \n",
            "financing lender ; applicants must demonstrate pursuit of other available sources of financing, \n",
            "such as the 45L credit, Solar Investment Tax Credits, and loans administered through the DC \n",
            "Green Bank per the provisions of the Inflation Reduction Act. Further detail will  be included in \n",
            "the Online Application or the Consolidated RFP.  \n",
            "DHCD received a comment reques ting a definition for “Managing Partner” as used in the QAP. \n",
            "This term was used in error; the wording was changed to “Managing Member” in the one \n",
            "instance the aforementioned phrase was used to ensure clarity and consistency.  \n",
            "DHCD has also added the followi ng definitions to the QAP in response to comments received: \n",
            "Aging Services (pg. 23 ); Development Partners (pg. 24); and Development Team  (pg. 24). \n",
            "One commenter suggested adding housing for survivors of domestic violence as a priority category in the \n",
            "Programs to Address Additional Barriers to Housing  sub-category. DHCD is \n",
            "open to this suggestion and notes that, as written, a project could propose thi s target \n",
            "population as part of their programming , provided the project proposes permanent housing.\n",
            "Here are some facts extracted from the provided text:\n",
            "\n",
            "Compliance -> With -> Dhcd cost and funding guidelines\n",
            "\n",
            "2023 DHCD Consolidated Request for Proposals  84 XII. APPENDIX: EVALUATION CRITERIA SUBCATEGOR Y\n",
            "SCORING MATRIX\n",
            "B\n",
            "elow are the detailed scoring criteria  DHCD will use to assign points and score a project. \n",
            "This same level of detail is also available in the Online Application System.  \n",
            "Criteria  Point Combination Explanation  Point \n",
            "Value  Point \n",
            "Type  Calculate  Total \n",
            "Potential \n",
            "Points  \n",
            "Project Readiness and Past Performance  \n",
            "E rror Free Submission  Per nonmaterial error up to 5 errors  -2 each  up to  -10\n",
            "R eadiness to Proceed  Per additional 3 months beyond 12 -month closing \n",
            "timeline  -1each  up to  -4\n",
            "Compliance with \n",
            "DHCD Cost and \n",
            "Funding Guidelines Per each 5% increment over maximum construction \n",
            "cost, soft cost, or operating cost guideline  -1 each  up to  -5\n",
            "Pa st Performance  up to  -6\n",
            "Each prior project that members of the development team participated in which were in DHCD's \n",
            "underwriting pipeline for longer than 3 years \n",
            "between selection and financial closing  -1 each  \n",
            "Each prior project that members of the development team participated in which were unable to close within the expected fiscal year for which funds were \n",
            "initially requisitioned  -1 each  \n",
            "Each project that members of the development team participated in that closed within the last 10 years that had a Department of Labor (DOL) wage \n",
            "rate complaint and investigation  -1 each  \n",
            "Each project in which members of the development \n",
            "team participated in that did not submit the required annual audit (or equivalent) and DHCD annual reporting to DHCD's Portfolio and Asset \n",
            "Management Division (PAMD)  -1 each  \n",
            "Project Readiness and Past Performance Subtotal  -25\n",
            "Max Points: -25 \n",
            "Inclusive and Equitable Housing  \n",
            "Permanent Supportive \n",
            "Housing  up to  10 \n",
            "At least 20% of units (including the required 5 % set-\n",
            "aside) are reserved as PSH that follows the Housing First model and fills vacancies through the \n",
            "Coordinated Entry system.  10\n",
            "Here are some facts extracted from the provided text:\n",
            "\n",
            "Applicants -> Must demonstrate -> Compliance\n",
            "Applicants -> Refer to -> Compliance and monitoring reference guide\n",
            "\n",
            "DHCD 2023  Qualified Allocation Plan, Page 55 of 59  income housing has long been recognized as a best practice in the affordable housing  field, either \n",
            "for projects that are 100% affordable but provide a range of units for different household \n",
            "incomes, or for those that incorporate both affordable and unrestricted market- rate units in the \n",
            "same building. DHCD strongly supports communities that offer housing for a range of household incomes, and must make resources available to household s with a wide variety of income levels.   \n",
            "Two commenters shared that it is more important to select projects that best respond to critical needs, particularly those that advance the HPTF statutory income targets, instead of focusing on requirements for developer qualifications. DH CD’s development team criteria help \n",
            "to ensure that projects have a high likelihood of being completed and are brought through pre -\n",
            "development, construction completion, and into sustainable long -term operations as proposed. \n",
            "The new \n",
            "Developer Capacity Buildi ng sub-category to the Evaluation Criteria prioritizes \n",
            "projects with developers with limited experience.  \n",
            "Housing for Older Adults  \n",
            "DHCD received comments in favor of separating Housing for Older Adults and Accessible \n",
            "Housing into two categories, and speci fying applicants to follow the Virginia Universal Design \n",
            "Standard. DHCD also received two comments suggesting that the Housing for Older Adults point category not require applying accessibility standards to all housing units in the development.  The 2021 Q AP did award points for projects that included units designed and \n",
            "reserved for seniors and/or people with disabilities, with maximum preference awarded to Projects for seniors (55+) in which all units met either the Uniform Federal Accessibility \n",
            "Standards (UFAS) or the American National Standards Institute (ANSI) Type A accessibility \n",
            "standards. The 2023 QAP, however, acknowledges the differentiated needs of seniors and \n",
            "other special -needs groups by allocating points to both Housing for Older Adults and \n",
            "Acce ssible Housing. Applicants may receive points for the Housing for Older Adults category if \n",
            "their proposed mix fully complies with the Fair Housing Act and Housing for Older Persons Act \n",
            "of 1995 (HOPA) Exemption.  DHCD disagrees with the assertion that requir ing certain  \n",
            "accessibility stan dards for housing for older adults  is an unreasonable requirement to obtain \n",
            "points.  DHCD is of the opinion that requiring units for older adults to have a minimal standard \n",
            "such as ANSI Type A units allows residents to age in p lace and prolong their ability to stay in \n",
            "their community.  \n",
            "One commenter asked for clarity on the point allocation for age restricted housing for people \n",
            "62+ or age restricted housing for people 55+. Points will be awarded to applicants regardless of which of the three HOPA Exemptions they qualify for: (1) developments specifically designed \n",
            "and operated to assist elderly persons; (2) developments intended for, and solely occupied by persons 62 years of age or older; and (3) developments intended and operated  for occupancy \n",
            "by persons 55 years of age or older. One additional point is awarded to Projects that target \n",
            "the 62+ age range.  \n",
            "Accessible Housing  \n",
            "DHCD received a comment recommending against requiring projects to meet ANSI Type A \n",
            "standards for all housing units. The 2023 QAP awards points for Projects where all units meet \n",
            "the American National Standards Institute (ANSI) Type A accessibility standard s. ANSI Type A \n",
            "is an adaptable unit, unlike UFAS or ANSI Accessible units, which do not have grab bars and \n",
            "other features installed at construction . These standards are  to ensure buildings and facilities\n",
            "Here are some facts extracted from the provided text:\n",
            "\n",
            "Compliance & monitoring requirements -> Include -> 76\n",
            "\n",
            "2023 DHCD Consolidated Request for Proposals  3 Non -Profit Affordable Housing Developer Tax Relief Program  .............................................60  \n",
            "Contractor’s Exempt Purchase Certificate (OTR -553) ..............................................................60  \n",
            "Supportive Se rvices Funds  .......................................................................................................................60  \n",
            "VIII. UNDERWRITING GUIDELINES  ................................ ................................ ................................ .............  64 \n",
            "a.Non -M ultifamily Mortgage Revenue Bond Rental Projects  .................................................. 64  \n",
            "b.Limited Equity Cooperative Homeownership Projects  ................................ ........................... 67  \n",
            "c.For-S ale Homeownership Projects  ................................................................................................... 71  \n",
            "IX. COMPLIANCE & MONITORING REQUIREMENTS  ................................ ................................ ...........  76 \n",
            "X. DEFINITIONS  ................................ ................................ ................................ ................................ .............  77 \n",
            "XI. CONTACT US  ................................ ................................ ................................ ................................ ............  83 \n",
            "XII. APPENDIX: EVALUATION CRITERIA SUBCATEGORY SCORING MATRIX  .............................  84\n"
          ]
        }
      ],
      "source": [
        "retriever = index.as_retriever(\n",
        "    sub_retrievers=[\n",
        "        llm_synonym,\n",
        "        vector_context,\n",
        "    ],\n",
        "    include_text=False\n",
        ")\n",
        "\n",
        "nodes = retriever.retrieve(\"compliance criteria?\")\n",
        "\n",
        "for node in nodes:\n",
        "    print(node.text)"
      ]
    },
    {
      "cell_type": "code",
      "execution_count": 41,
      "metadata": {
        "id": "DfZBHLkkMZZX",
        "colab": {
          "base_uri": "https://localhost:8080/"
        },
        "outputId": "60327813-374f-4528-dc0e-0da8894c5b02"
      },
      "outputs": [
        {
          "output_type": "stream",
          "name": "stdout",
          "text": [
            "Projects must maintain net zero energy compliance, which means they need to be designed and constructed to accommodate individuals with mobility impairments. Additionally, projects may receive points if they provide twice the number of accessible and audio/visual units as required by Section 504. This ensures that a percentage of units are accessible or that all building units are adaptable. Compliance also involves adhering to any additional local compliance requirements that may apply to LIHTC projects, as outlined in the Compliance and Monitoring Reference Guide. Failure to comply with these requirements may result in the issuance of IRS Form(s) 8823 and potential recapture of tax credits. Project owners are required to maintain records for each year of the Compliance Period and must notify DHCD of any proposed changes in property management or ownership at least 30 days prior. If a project is found to be in noncompliance, the owner will be notified in writing and given a cure period of up to 90 days to rectify the issues. DHCD may grant an extension of the cure period for up to an additional six months under certain circumstances.\n"
          ]
        }
      ],
      "source": [
        "query_engine = index.as_query_engine(sub_retrievers=[\n",
        "        llm_synonym,\n",
        "        vector_context,\n",
        "    ],include_text=True)\n",
        "\n",
        "response = query_engine.query(\"What is compliance criteria for a solar related project? Explain in detail\")\n",
        "\n",
        "print(f\"{response.response}\")"
      ]
    }
  ],
  "metadata": {
    "colab": {
      "provenance": [],
      "authorship_tag": "ABX9TyNcDclFiaMnJq3f+BUWKwWI",
      "include_colab_link": true
    },
    "kernelspec": {
      "display_name": "Python 3",
      "name": "python3"
    },
    "language_info": {
      "name": "python"
    },
    "widgets": {
      "application/vnd.jupyter.widget-state+json": {
        "0a29eea5f11c4f85aea43b57ba1f10cc": {
          "model_module": "@jupyter-widgets/controls",
          "model_name": "HBoxModel",
          "model_module_version": "1.5.0",
          "state": {
            "_dom_classes": [],
            "_model_module": "@jupyter-widgets/controls",
            "_model_module_version": "1.5.0",
            "_model_name": "HBoxModel",
            "_view_count": null,
            "_view_module": "@jupyter-widgets/controls",
            "_view_module_version": "1.5.0",
            "_view_name": "HBoxView",
            "box_style": "",
            "children": [
              "IPY_MODEL_2f1d37ffbcc0497c87dac7bdd4ded59e",
              "IPY_MODEL_b7d3745bf23f4bf7b067982f88d2a466",
              "IPY_MODEL_5567dd3b2ce7434a89caf3623089de00"
            ],
            "layout": "IPY_MODEL_35f30c2cad7d40fbb43b399af4621389"
          }
        },
        "2f1d37ffbcc0497c87dac7bdd4ded59e": {
          "model_module": "@jupyter-widgets/controls",
          "model_name": "HTMLModel",
          "model_module_version": "1.5.0",
          "state": {
            "_dom_classes": [],
            "_model_module": "@jupyter-widgets/controls",
            "_model_module_version": "1.5.0",
            "_model_name": "HTMLModel",
            "_view_count": null,
            "_view_module": "@jupyter-widgets/controls",
            "_view_module_version": "1.5.0",
            "_view_name": "HTMLView",
            "description": "",
            "description_tooltip": null,
            "layout": "IPY_MODEL_1054c81012f44ff5a27216709059fadb",
            "placeholder": "​",
            "style": "IPY_MODEL_04b74928c5af44cba22aac77f7db1821",
            "value": "Parsing nodes: 100%"
          }
        },
        "b7d3745bf23f4bf7b067982f88d2a466": {
          "model_module": "@jupyter-widgets/controls",
          "model_name": "FloatProgressModel",
          "model_module_version": "1.5.0",
          "state": {
            "_dom_classes": [],
            "_model_module": "@jupyter-widgets/controls",
            "_model_module_version": "1.5.0",
            "_model_name": "FloatProgressModel",
            "_view_count": null,
            "_view_module": "@jupyter-widgets/controls",
            "_view_module_version": "1.5.0",
            "_view_name": "ProgressView",
            "bar_style": "success",
            "description": "",
            "description_tooltip": null,
            "layout": "IPY_MODEL_0b26df9493684268b0cdc6bfe0490d3f",
            "max": 151,
            "min": 0,
            "orientation": "horizontal",
            "style": "IPY_MODEL_9d8ce24ec4184d3196707beb608beef6",
            "value": 151
          }
        },
        "5567dd3b2ce7434a89caf3623089de00": {
          "model_module": "@jupyter-widgets/controls",
          "model_name": "HTMLModel",
          "model_module_version": "1.5.0",
          "state": {
            "_dom_classes": [],
            "_model_module": "@jupyter-widgets/controls",
            "_model_module_version": "1.5.0",
            "_model_name": "HTMLModel",
            "_view_count": null,
            "_view_module": "@jupyter-widgets/controls",
            "_view_module_version": "1.5.0",
            "_view_name": "HTMLView",
            "description": "",
            "description_tooltip": null,
            "layout": "IPY_MODEL_b82d6effa00e4d84b8affddff7929cf0",
            "placeholder": "​",
            "style": "IPY_MODEL_a7b8c0c1c43b49de9df4b3bbbc6a0b67",
            "value": " 151/151 [00:00&lt;00:00, 633.69it/s]"
          }
        },
        "35f30c2cad7d40fbb43b399af4621389": {
          "model_module": "@jupyter-widgets/base",
          "model_name": "LayoutModel",
          "model_module_version": "1.2.0",
          "state": {
            "_model_module": "@jupyter-widgets/base",
            "_model_module_version": "1.2.0",
            "_model_name": "LayoutModel",
            "_view_count": null,
            "_view_module": "@jupyter-widgets/base",
            "_view_module_version": "1.2.0",
            "_view_name": "LayoutView",
            "align_content": null,
            "align_items": null,
            "align_self": null,
            "border": null,
            "bottom": null,
            "display": null,
            "flex": null,
            "flex_flow": null,
            "grid_area": null,
            "grid_auto_columns": null,
            "grid_auto_flow": null,
            "grid_auto_rows": null,
            "grid_column": null,
            "grid_gap": null,
            "grid_row": null,
            "grid_template_areas": null,
            "grid_template_columns": null,
            "grid_template_rows": null,
            "height": null,
            "justify_content": null,
            "justify_items": null,
            "left": null,
            "margin": null,
            "max_height": null,
            "max_width": null,
            "min_height": null,
            "min_width": null,
            "object_fit": null,
            "object_position": null,
            "order": null,
            "overflow": null,
            "overflow_x": null,
            "overflow_y": null,
            "padding": null,
            "right": null,
            "top": null,
            "visibility": null,
            "width": null
          }
        },
        "1054c81012f44ff5a27216709059fadb": {
          "model_module": "@jupyter-widgets/base",
          "model_name": "LayoutModel",
          "model_module_version": "1.2.0",
          "state": {
            "_model_module": "@jupyter-widgets/base",
            "_model_module_version": "1.2.0",
            "_model_name": "LayoutModel",
            "_view_count": null,
            "_view_module": "@jupyter-widgets/base",
            "_view_module_version": "1.2.0",
            "_view_name": "LayoutView",
            "align_content": null,
            "align_items": null,
            "align_self": null,
            "border": null,
            "bottom": null,
            "display": null,
            "flex": null,
            "flex_flow": null,
            "grid_area": null,
            "grid_auto_columns": null,
            "grid_auto_flow": null,
            "grid_auto_rows": null,
            "grid_column": null,
            "grid_gap": null,
            "grid_row": null,
            "grid_template_areas": null,
            "grid_template_columns": null,
            "grid_template_rows": null,
            "height": null,
            "justify_content": null,
            "justify_items": null,
            "left": null,
            "margin": null,
            "max_height": null,
            "max_width": null,
            "min_height": null,
            "min_width": null,
            "object_fit": null,
            "object_position": null,
            "order": null,
            "overflow": null,
            "overflow_x": null,
            "overflow_y": null,
            "padding": null,
            "right": null,
            "top": null,
            "visibility": null,
            "width": null
          }
        },
        "04b74928c5af44cba22aac77f7db1821": {
          "model_module": "@jupyter-widgets/controls",
          "model_name": "DescriptionStyleModel",
          "model_module_version": "1.5.0",
          "state": {
            "_model_module": "@jupyter-widgets/controls",
            "_model_module_version": "1.5.0",
            "_model_name": "DescriptionStyleModel",
            "_view_count": null,
            "_view_module": "@jupyter-widgets/base",
            "_view_module_version": "1.2.0",
            "_view_name": "StyleView",
            "description_width": ""
          }
        },
        "0b26df9493684268b0cdc6bfe0490d3f": {
          "model_module": "@jupyter-widgets/base",
          "model_name": "LayoutModel",
          "model_module_version": "1.2.0",
          "state": {
            "_model_module": "@jupyter-widgets/base",
            "_model_module_version": "1.2.0",
            "_model_name": "LayoutModel",
            "_view_count": null,
            "_view_module": "@jupyter-widgets/base",
            "_view_module_version": "1.2.0",
            "_view_name": "LayoutView",
            "align_content": null,
            "align_items": null,
            "align_self": null,
            "border": null,
            "bottom": null,
            "display": null,
            "flex": null,
            "flex_flow": null,
            "grid_area": null,
            "grid_auto_columns": null,
            "grid_auto_flow": null,
            "grid_auto_rows": null,
            "grid_column": null,
            "grid_gap": null,
            "grid_row": null,
            "grid_template_areas": null,
            "grid_template_columns": null,
            "grid_template_rows": null,
            "height": null,
            "justify_content": null,
            "justify_items": null,
            "left": null,
            "margin": null,
            "max_height": null,
            "max_width": null,
            "min_height": null,
            "min_width": null,
            "object_fit": null,
            "object_position": null,
            "order": null,
            "overflow": null,
            "overflow_x": null,
            "overflow_y": null,
            "padding": null,
            "right": null,
            "top": null,
            "visibility": null,
            "width": null
          }
        },
        "9d8ce24ec4184d3196707beb608beef6": {
          "model_module": "@jupyter-widgets/controls",
          "model_name": "ProgressStyleModel",
          "model_module_version": "1.5.0",
          "state": {
            "_model_module": "@jupyter-widgets/controls",
            "_model_module_version": "1.5.0",
            "_model_name": "ProgressStyleModel",
            "_view_count": null,
            "_view_module": "@jupyter-widgets/base",
            "_view_module_version": "1.2.0",
            "_view_name": "StyleView",
            "bar_color": null,
            "description_width": ""
          }
        },
        "b82d6effa00e4d84b8affddff7929cf0": {
          "model_module": "@jupyter-widgets/base",
          "model_name": "LayoutModel",
          "model_module_version": "1.2.0",
          "state": {
            "_model_module": "@jupyter-widgets/base",
            "_model_module_version": "1.2.0",
            "_model_name": "LayoutModel",
            "_view_count": null,
            "_view_module": "@jupyter-widgets/base",
            "_view_module_version": "1.2.0",
            "_view_name": "LayoutView",
            "align_content": null,
            "align_items": null,
            "align_self": null,
            "border": null,
            "bottom": null,
            "display": null,
            "flex": null,
            "flex_flow": null,
            "grid_area": null,
            "grid_auto_columns": null,
            "grid_auto_flow": null,
            "grid_auto_rows": null,
            "grid_column": null,
            "grid_gap": null,
            "grid_row": null,
            "grid_template_areas": null,
            "grid_template_columns": null,
            "grid_template_rows": null,
            "height": null,
            "justify_content": null,
            "justify_items": null,
            "left": null,
            "margin": null,
            "max_height": null,
            "max_width": null,
            "min_height": null,
            "min_width": null,
            "object_fit": null,
            "object_position": null,
            "order": null,
            "overflow": null,
            "overflow_x": null,
            "overflow_y": null,
            "padding": null,
            "right": null,
            "top": null,
            "visibility": null,
            "width": null
          }
        },
        "a7b8c0c1c43b49de9df4b3bbbc6a0b67": {
          "model_module": "@jupyter-widgets/controls",
          "model_name": "DescriptionStyleModel",
          "model_module_version": "1.5.0",
          "state": {
            "_model_module": "@jupyter-widgets/controls",
            "_model_module_version": "1.5.0",
            "_model_name": "DescriptionStyleModel",
            "_view_count": null,
            "_view_module": "@jupyter-widgets/base",
            "_view_module_version": "1.2.0",
            "_view_name": "StyleView",
            "description_width": ""
          }
        }
      }
    }
  },
  "nbformat": 4,
  "nbformat_minor": 0
}